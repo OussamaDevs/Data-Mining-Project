{
 "cells": [
  {
   "cell_type": "code",
   "execution_count": 1,
   "id": "0a01fe89-d452-4fcc-9b69-c86cf9656478",
   "metadata": {},
   "outputs": [],
   "source": [
    "import pickle\n",
    "import pandas as pd\n",
    "from sklearn.preprocessing import StandardScaler"
   ]
  },
  {
   "cell_type": "code",
   "execution_count": 2,
   "id": "14e47bf5-1f48-46ca-a475-741f129d8941",
   "metadata": {},
   "outputs": [],
   "source": [
    "# Load the trained model\n",
    "with open('models/random_forest_model.pkl', 'rb') as file:\n",
    "    rf_model = pickle.load(file)\n"
   ]
  },
  {
   "cell_type": "code",
   "execution_count": 3,
   "id": "2ee37e61-cb11-4cb0-93ab-db8c434d5c42",
   "metadata": {},
   "outputs": [
    {
     "name": "stdout",
     "output_type": "stream",
     "text": [
      "   age  hypertension  heart_disease  smoking_history   bmi  HbA1c_level  \\\n",
      "0 -1.0             0              0                2 -0.50         -0.2   \n",
      "1  1.5             1              1                0  1.04          1.2   \n",
      "2 -2.0             0              0                1 -1.26          0.1   \n",
      "\n",
      "   blood_glucose_level  age_group  gender_Female  gender_Male  ...  \\\n",
      "0            -0.666667          1              1            0  ...   \n",
      "1             1.333333          2              0            1  ...   \n",
      "2            -2.333333          0              0            1  ...   \n",
      "\n",
      "   Female_Adult  Female_Old  Other_Child  Other_Adult  Other_Old  age_squared  \\\n",
      "0             1           0            0            0          0         1225   \n",
      "1             0           0            0            0          0         3600   \n",
      "2             0           0            0            0          0          625   \n",
      "\n",
      "   bmi_category  HbA1c_above_6_5  blood_glucose_above_126  predicted_diabetes  \n",
      "0             3                0                        0                   0  \n",
      "1             2                1                        1                   1  \n",
      "2             1                0                        0                   0  \n",
      "\n",
      "[3 rows x 25 columns]\n"
     ]
    },
    {
     "name": "stderr",
     "output_type": "stream",
     "text": [
      "C:\\Users\\Aleix\\AppData\\Local\\Packages\\PythonSoftwareFoundation.Python.3.12_qbz5n2kfra8p0\\LocalCache\\local-packages\\Python312\\site-packages\\sklearn\\utils\\validation.py:2732: UserWarning: X has feature names, but StandardScaler was fitted without feature names\n",
      "  warnings.warn(\n"
     ]
    }
   ],
   "source": [
    "columns_to_scale = ['age', 'bmi', 'HbA1c_level', 'blood_glucose_level']\n",
    "training_data_statistics = {\n",
    "    'age': {'mean': 45, 'std': 10},\n",
    "    'bmi': {'mean': 25, 'std': 5},\n",
    "    'HbA1c_level': {'mean': 6.0, 'std': 1.0},\n",
    "    'blood_glucose_level': {'mean': 120, 'std': 15}\n",
    "}\n",
    "\n",
    "scaler = StandardScaler()\n",
    "scaler.mean_ = [training_data_statistics[col]['mean'] for col in columns_to_scale]\n",
    "scaler.scale_ = [training_data_statistics[col]['std'] for col in columns_to_scale]\n",
    "\n",
    "# Create a small made-up dataset with the same columns\n",
    "sample_data = {\n",
    "    'age': [35, 60, 25],\n",
    "    'hypertension': [0, 1, 0],\n",
    "    'heart_disease': [0, 1, 0],\n",
    "    'smoking_history': [2, 0, 1],  # Encoded: 2 = never, 0 = No Info, etc.\n",
    "    'bmi': [22.5, 30.2, 18.7],\n",
    "    'HbA1c_level': [5.8, 7.2, 6.1],\n",
    "    'blood_glucose_level': [110, 140, 85],\n",
    "    'age_group': [1, 2, 0],  # Encoded: 0 = Child, 1 = Adult, etc.\n",
    "    'gender_Female': [1, 0, 0],\n",
    "    'gender_Male': [0, 1, 1],\n",
    "    'gender_Other': [0, 0, 0],\n",
    "    'Male_Child': [0, 0, 0],\n",
    "    'Male_Adult': [0, 1, 1],\n",
    "    'Male_Old': [0, 0, 0],\n",
    "    'Female_Child': [0, 0, 0],\n",
    "    'Female_Adult': [1, 0, 0],\n",
    "    'Female_Old': [0, 0, 0],\n",
    "    'Other_Child': [0, 0, 0],\n",
    "    'Other_Adult': [0, 0, 0],\n",
    "    'Other_Old': [0, 0, 0],\n",
    "    'age_squared': [1225, 3600, 625],\n",
    "    'bmi_category': [3, 2, 1],  # Encoded: 1 = Underweight, 2 = Normal weight, etc.\n",
    "    'HbA1c_above_6_5': [0, 1, 0],\n",
    "    'blood_glucose_above_126': [0, 1, 0]\n",
    "}\n",
    "\n",
    "# Convert to DataFrame\n",
    "sample_df = pd.DataFrame(sample_data)\n",
    "\n",
    "# Apply the scaler to the numerical columns\n",
    "sample_df[columns_to_scale] = scaler.transform(sample_df[columns_to_scale])\n",
    "\n",
    "# Predict using the trained model\n",
    "predictions = rf_model.predict(sample_df)\n",
    "\n",
    "# Add predictions to the dataframe\n",
    "sample_df['predicted_diabetes'] = predictions\n",
    "\n",
    "# Display the sample data with predictions\n",
    "print(sample_df)\n"
   ]
  }
 ],
 "metadata": {
  "kernelspec": {
   "display_name": "Python 3 (ipykernel)",
   "language": "python",
   "name": "python3"
  },
  "language_info": {
   "codemirror_mode": {
    "name": "ipython",
    "version": 3
   },
   "file_extension": ".py",
   "mimetype": "text/x-python",
   "name": "python",
   "nbconvert_exporter": "python",
   "pygments_lexer": "ipython3",
   "version": "3.12.8"
  }
 },
 "nbformat": 4,
 "nbformat_minor": 5
}
