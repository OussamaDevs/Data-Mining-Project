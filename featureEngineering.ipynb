{
 "cells": [
  {
   "cell_type": "code",
   "execution_count": 1,
   "id": "d8b7b433-30da-4fe0-9866-e0c29d7521b6",
   "metadata": {},
   "outputs": [
    {
     "name": "stdout",
     "output_type": "stream",
     "text": [
      "   gender   age  hypertension  heart_disease smoking_history    bmi  \\\n",
      "0  Female  80.0             0              1           never  25.19   \n",
      "1  Female  54.0             0              0         No Info  27.32   \n",
      "2    Male  28.0             0              0           never  27.32   \n",
      "3  Female  36.0             0              0         current  23.45   \n",
      "4    Male  76.0             1              1         current  20.14   \n",
      "\n",
      "   HbA1c_level  blood_glucose_level  diabetes  \n",
      "0          6.6                  140         0  \n",
      "1          6.6                   80         0  \n",
      "2          5.7                  158         0  \n",
      "3          5.0                  155         0  \n",
      "4          4.8                  155         0  \n"
     ]
    }
   ],
   "source": [
    "import pandas as pd\n",
    "\n",
    "df = pd.read_csv(\"diabeto_cleaned.csv\")\n",
    "print(df.head())"
   ]
  },
  {
   "cell_type": "code",
   "execution_count": 2,
   "id": "11502c1f-99ce-47e5-9124-b97d9902f228",
   "metadata": {},
   "outputs": [
    {
     "name": "stdout",
     "output_type": "stream",
     "text": [
      "    age age_group\n",
      "0  80.0       Old\n",
      "1  54.0     Adult\n",
      "2  28.0     Adult\n",
      "3  36.0     Adult\n",
      "4  76.0       Old\n"
     ]
    }
   ],
   "source": [
    "# Define age bins and labels\n",
    "bins = [0, 17, 64, float('inf')]  # Define the ranges\n",
    "labels = ['Child', 'Adult', 'Old']  # Define the labels\n",
    "\n",
    "# Create a new column for age groups\n",
    "df['age_group'] = pd.cut(df['age'], bins=bins, labels=labels, right=True)\n",
    "\n",
    "# Display the first few rows to verify\n",
    "print(df[['age', 'age_group']].head())\n"
   ]
  },
  {
   "cell_type": "code",
   "execution_count": 3,
   "id": "42136139-10e8-4a89-b07d-7d59425ec2e9",
   "metadata": {},
   "outputs": [
    {
     "name": "stdout",
     "output_type": "stream",
     "text": [
      "age_group\n",
      "Adult    61802\n",
      "Old      17656\n",
      "Child    16688\n",
      "Name: count, dtype: int64\n"
     ]
    }
   ],
   "source": [
    "print(df['age_group'].value_counts())"
   ]
  },
  {
   "cell_type": "code",
   "execution_count": 4,
   "id": "9b6bc412-87b0-44cb-891f-113c18e9026d",
   "metadata": {},
   "outputs": [
    {
     "name": "stdout",
     "output_type": "stream",
     "text": [
      "    age age_group  gender_Male  gender_Female  gender_Other  Male_Child  \\\n",
      "0  80.0       Old        False           True         False           0   \n",
      "1  54.0     Adult        False           True         False           0   \n",
      "2  28.0     Adult         True          False         False           0   \n",
      "3  36.0     Adult        False           True         False           0   \n",
      "4  76.0       Old         True          False         False           0   \n",
      "\n",
      "   Male_Adult  Male_Old  Female_Child  Female_Adult  Female_Old  Other_Child  \\\n",
      "0           0         0             0             0           1            0   \n",
      "1           0         0             0             1           0            0   \n",
      "2           1         0             0             0           0            0   \n",
      "3           0         0             0             1           0            0   \n",
      "4           0         1             0             0           0            0   \n",
      "\n",
      "   Other_Adult  Other_Old  \n",
      "0            0          0  \n",
      "1            0          0  \n",
      "2            0          0  \n",
      "3            0          0  \n",
      "4            0          0  \n"
     ]
    }
   ],
   "source": [
    "# Step 1: One-Hot Encode Gender\n",
    "df = pd.get_dummies(df, columns=['gender'], prefix='gender')\n",
    "\n",
    "# Step 2: Combine Gender with Age Groups\n",
    "age_groups = ['Child', 'Adult', 'Old']\n",
    "genders = ['Male', 'Female', 'Other']\n",
    "\n",
    "# Create interaction features for all gender-age combinations\n",
    "for gender in genders:\n",
    "    for age_group in age_groups:\n",
    "        # Create a new column for each gender-age group combination\n",
    "        df[f'{gender}_{age_group}'] = (df[f'gender_{gender}'] & (df['age_group'] == age_group)).astype(int)\n",
    "\n",
    "# Display the first few rows to verify\n",
    "print(df[['age', 'age_group', 'gender_Male', 'gender_Female', 'gender_Other', \n",
    "          'Male_Child', 'Male_Adult', 'Male_Old', 'Female_Child', 'Female_Adult', \n",
    "          'Female_Old', 'Other_Child', 'Other_Adult', 'Other_Old']].head())\n"
   ]
  },
  {
   "cell_type": "code",
   "execution_count": 5,
   "id": "dc4fdbdd-c58c-4db7-b749-879dd19ee34c",
   "metadata": {},
   "outputs": [
    {
     "name": "stdout",
     "output_type": "stream",
     "text": [
      "Index(['age', 'hypertension', 'heart_disease', 'smoking_history', 'bmi',\n",
      "       'HbA1c_level', 'blood_glucose_level', 'diabetes', 'age_group',\n",
      "       'gender_Female', 'gender_Male', 'gender_Other', 'Male_Child',\n",
      "       'Male_Adult', 'Male_Old', 'Female_Child', 'Female_Adult', 'Female_Old',\n",
      "       'Other_Child', 'Other_Adult', 'Other_Old'],\n",
      "      dtype='object')\n"
     ]
    }
   ],
   "source": [
    "print(df.columns)"
   ]
  },
  {
   "cell_type": "code",
   "execution_count": 6,
   "id": "962668d0-4bcf-4b0a-9f3c-56224c4c3a5a",
   "metadata": {},
   "outputs": [
    {
     "name": "stdout",
     "output_type": "stream",
     "text": [
      "    age  age_squared\n",
      "0  80.0       6400.0\n",
      "1  54.0       2916.0\n",
      "2  28.0        784.0\n",
      "3  36.0       1296.0\n",
      "4  76.0       5776.0\n"
     ]
    }
   ],
   "source": [
    "# Step 4: Create a new column for age squared (age^2)\n",
    "df['age_squared'] = df['age'] ** 2\n",
    "\n",
    "# Display the first few rows to verify\n",
    "print(df[['age', 'age_squared']].head())\n"
   ]
  },
  {
   "cell_type": "code",
   "execution_count": 7,
   "id": "361b4932-2aab-40da-83d8-239d57d1e79b",
   "metadata": {},
   "outputs": [
    {
     "name": "stdout",
     "output_type": "stream",
     "text": [
      "Index(['age', 'hypertension', 'heart_disease', 'smoking_history', 'bmi',\n",
      "       'HbA1c_level', 'blood_glucose_level', 'diabetes', 'age_group',\n",
      "       'gender_Female', 'gender_Male', 'gender_Other', 'Male_Child',\n",
      "       'Male_Adult', 'Male_Old', 'Female_Child', 'Female_Adult', 'Female_Old',\n",
      "       'Other_Child', 'Other_Adult', 'Other_Old', 'age_squared'],\n",
      "      dtype='object')\n"
     ]
    }
   ],
   "source": [
    "print(df.columns)"
   ]
  },
  {
   "cell_type": "code",
   "execution_count": 8,
   "id": "afa5cbca-c052-46a5-912b-7ea67c0edff9",
   "metadata": {},
   "outputs": [
    {
     "name": "stdout",
     "output_type": "stream",
     "text": [
      "     bmi   bmi_category\n",
      "0  25.19     Overweight\n",
      "1  27.32     Overweight\n",
      "2  27.32     Overweight\n",
      "3  23.45  Normal weight\n",
      "4  20.14  Normal weight\n"
     ]
    }
   ],
   "source": [
    "def classify_bmi(bmi):\n",
    "    if bmi < 18.5:\n",
    "        return 'Underweight'\n",
    "    elif 18.5 <= bmi < 24.9:\n",
    "        return 'Normal weight'\n",
    "    elif 25 <= bmi < 29.9:\n",
    "        return 'Overweight'\n",
    "    else:\n",
    "        return 'Obese'\n",
    "\n",
    "df['bmi_category'] = df['bmi'].apply(classify_bmi)\n",
    "\n",
    "print(df[['bmi', 'bmi_category']].head())"
   ]
  },
  {
   "cell_type": "code",
   "execution_count": 9,
   "id": "3ab98e13-2914-4529-9fba-947b9226d519",
   "metadata": {},
   "outputs": [
    {
     "name": "stdout",
     "output_type": "stream",
     "text": [
      "   HbA1c_level  HbA1c_above_6_5  blood_glucose_level  blood_glucose_above_126\n",
      "0          6.6                1                  140                        1\n",
      "1          6.6                1                   80                        0\n",
      "2          5.7                0                  158                        1\n",
      "3          5.0                0                  155                        1\n",
      "4          4.8                0                  155                        1\n"
     ]
    }
   ],
   "source": [
    "# Threshold for HbA1c level (indicating diabetes risk)\n",
    "df['HbA1c_above_6_5'] = (df['HbA1c_level'] >= 6.5).astype(int)\n",
    "\n",
    "# Threshold for blood glucose level\n",
    "df['blood_glucose_above_126'] = (df['blood_glucose_level'] >= 126).astype(int)\n",
    "\n",
    "print(df[['HbA1c_level', 'HbA1c_above_6_5', 'blood_glucose_level', 'blood_glucose_above_126']].head())"
   ]
  },
  {
   "cell_type": "code",
   "execution_count": 10,
   "id": "f59d6790-b3f7-432f-995b-925175184c10",
   "metadata": {},
   "outputs": [
    {
     "name": "stdout",
     "output_type": "stream",
     "text": [
      "Index(['age', 'hypertension', 'heart_disease', 'smoking_history', 'bmi',\n",
      "       'HbA1c_level', 'blood_glucose_level', 'diabetes', 'age_group',\n",
      "       'gender_Female', 'gender_Male', 'gender_Other', 'Male_Child',\n",
      "       'Male_Adult', 'Male_Old', 'Female_Child', 'Female_Adult', 'Female_Old',\n",
      "       'Other_Child', 'Other_Adult', 'Other_Old', 'age_squared',\n",
      "       'bmi_category', 'HbA1c_above_6_5', 'blood_glucose_above_126'],\n",
      "      dtype='object')\n"
     ]
    }
   ],
   "source": [
    "print(df.columns)"
   ]
  },
  {
   "cell_type": "code",
   "execution_count": 11,
   "id": "38efabae-fffb-47b4-88f1-18234f90131a",
   "metadata": {},
   "outputs": [],
   "source": [
    "df.to_csv('diabetes_engineered.csv', index=False)"
   ]
  },
  {
   "cell_type": "code",
   "execution_count": 12,
   "id": "69d5af0f-4314-45ae-bc46-c8283cb306e3",
   "metadata": {},
   "outputs": [
    {
     "name": "stdout",
     "output_type": "stream",
     "text": [
      "        age       bmi  HbA1c_level  blood_glucose_level\n",
      "0  1.700840 -0.314947     0.994563             0.043554\n",
      "1  0.543372 -0.000216     0.994563            -1.423096\n",
      "2 -0.614096 -0.000216     0.155970             0.483549\n",
      "3 -0.257952 -0.572051    -0.496269             0.410216\n",
      "4  1.522768 -1.061141    -0.682623             0.410216\n"
     ]
    }
   ],
   "source": [
    "from sklearn.preprocessing import StandardScaler\n",
    "\n",
    "# Step 10: Normalize/Standardize features (excluding target and categorical columns)\n",
    "scaler = StandardScaler()\n",
    "\n",
    "# Selecting the columns to scale (continuous features)\n",
    "columns_to_scale = ['age', 'bmi', 'HbA1c_level', 'blood_glucose_level']\n",
    "\n",
    "# Apply StandardScaler\n",
    "df[columns_to_scale] = scaler.fit_transform(df[columns_to_scale])\n",
    "\n",
    "# Display the first few rows to verify\n",
    "print(df[columns_to_scale].head())\n"
   ]
  },
  {
   "cell_type": "code",
   "execution_count": 13,
   "id": "16b919f8-cfeb-4774-ad46-b412c3fa70fa",
   "metadata": {},
   "outputs": [],
   "source": [
    "df.to_csv('diabetes_engineered_normalized.csv', index=False)"
   ]
  },
  {
   "cell_type": "code",
   "execution_count": null,
   "id": "97b65239-d922-4bf3-8f1e-fdf44c4d729f",
   "metadata": {},
   "outputs": [],
   "source": []
  }
 ],
 "metadata": {
  "kernelspec": {
   "display_name": "Python 3 (ipykernel)",
   "language": "python",
   "name": "python3"
  },
  "language_info": {
   "codemirror_mode": {
    "name": "ipython",
    "version": 3
   },
   "file_extension": ".py",
   "mimetype": "text/x-python",
   "name": "python",
   "nbconvert_exporter": "python",
   "pygments_lexer": "ipython3",
   "version": "3.12.8"
  }
 },
 "nbformat": 4,
 "nbformat_minor": 5
}
