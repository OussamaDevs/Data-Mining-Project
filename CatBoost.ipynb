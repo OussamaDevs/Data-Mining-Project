{
 "cells": [
  {
   "cell_type": "code",
   "execution_count": 1,
   "id": "dfc269e9-8d4c-4300-95cd-c1914cbf0d1a",
   "metadata": {},
   "outputs": [],
   "source": [
    "from sklearn.linear_model import LogisticRegression\n",
    "from sklearn.metrics import accuracy_score, classification_report, roc_auc_score\n",
    "import pandas as pd\n"
   ]
  },
  {
   "cell_type": "code",
   "execution_count": 2,
   "id": "4790dd48-68e2-4f2b-a1cd-440cea585cb0",
   "metadata": {},
   "outputs": [
    {
     "data": {
      "text/html": [
       "<div>\n",
       "<style scoped>\n",
       "    .dataframe tbody tr th:only-of-type {\n",
       "        vertical-align: middle;\n",
       "    }\n",
       "\n",
       "    .dataframe tbody tr th {\n",
       "        vertical-align: top;\n",
       "    }\n",
       "\n",
       "    .dataframe thead th {\n",
       "        text-align: right;\n",
       "    }\n",
       "</style>\n",
       "<table border=\"1\" class=\"dataframe\">\n",
       "  <thead>\n",
       "    <tr style=\"text-align: right;\">\n",
       "      <th></th>\n",
       "      <th>age</th>\n",
       "      <th>hypertension</th>\n",
       "      <th>heart_disease</th>\n",
       "      <th>smoking_history</th>\n",
       "      <th>bmi</th>\n",
       "      <th>HbA1c_level</th>\n",
       "      <th>blood_glucose_level</th>\n",
       "      <th>diabetes</th>\n",
       "      <th>age_group</th>\n",
       "      <th>gender_Female</th>\n",
       "      <th>...</th>\n",
       "      <th>Female_Child</th>\n",
       "      <th>Female_Adult</th>\n",
       "      <th>Female_Old</th>\n",
       "      <th>Other_Child</th>\n",
       "      <th>Other_Adult</th>\n",
       "      <th>Other_Old</th>\n",
       "      <th>age_squared</th>\n",
       "      <th>bmi_category</th>\n",
       "      <th>HbA1c_above_6_5</th>\n",
       "      <th>blood_glucose_above_126</th>\n",
       "    </tr>\n",
       "  </thead>\n",
       "  <tbody>\n",
       "    <tr>\n",
       "      <th>0</th>\n",
       "      <td>1.389214</td>\n",
       "      <td>0</td>\n",
       "      <td>1</td>\n",
       "      <td>former</td>\n",
       "      <td>0.326336</td>\n",
       "      <td>0.155970</td>\n",
       "      <td>1.510204</td>\n",
       "      <td>1</td>\n",
       "      <td>Old</td>\n",
       "      <td>False</td>\n",
       "      <td>...</td>\n",
       "      <td>0</td>\n",
       "      <td>0</td>\n",
       "      <td>0</td>\n",
       "      <td>0</td>\n",
       "      <td>0</td>\n",
       "      <td>0</td>\n",
       "      <td>5329.0</td>\n",
       "      <td>Overweight</td>\n",
       "      <td>0</td>\n",
       "      <td>1</td>\n",
       "    </tr>\n",
       "    <tr>\n",
       "      <th>1</th>\n",
       "      <td>0.810480</td>\n",
       "      <td>0</td>\n",
       "      <td>0</td>\n",
       "      <td>No Info</td>\n",
       "      <td>-1.390648</td>\n",
       "      <td>2.485395</td>\n",
       "      <td>-0.298664</td>\n",
       "      <td>1</td>\n",
       "      <td>Adult</td>\n",
       "      <td>True</td>\n",
       "      <td>...</td>\n",
       "      <td>0</td>\n",
       "      <td>1</td>\n",
       "      <td>0</td>\n",
       "      <td>0</td>\n",
       "      <td>0</td>\n",
       "      <td>0</td>\n",
       "      <td>3600.0</td>\n",
       "      <td>Underweight</td>\n",
       "      <td>1</td>\n",
       "      <td>1</td>\n",
       "    </tr>\n",
       "    <tr>\n",
       "      <th>2</th>\n",
       "      <td>1.611804</td>\n",
       "      <td>0</td>\n",
       "      <td>0</td>\n",
       "      <td>never</td>\n",
       "      <td>1.846798</td>\n",
       "      <td>1.180917</td>\n",
       "      <td>0.410216</td>\n",
       "      <td>1</td>\n",
       "      <td>Old</td>\n",
       "      <td>True</td>\n",
       "      <td>...</td>\n",
       "      <td>0</td>\n",
       "      <td>0</td>\n",
       "      <td>1</td>\n",
       "      <td>0</td>\n",
       "      <td>0</td>\n",
       "      <td>0</td>\n",
       "      <td>6084.0</td>\n",
       "      <td>Obese</td>\n",
       "      <td>1</td>\n",
       "      <td>1</td>\n",
       "    </tr>\n",
       "    <tr>\n",
       "      <th>3</th>\n",
       "      <td>0.676926</td>\n",
       "      <td>0</td>\n",
       "      <td>0</td>\n",
       "      <td>never</td>\n",
       "      <td>0.098784</td>\n",
       "      <td>0.528678</td>\n",
       "      <td>0.043554</td>\n",
       "      <td>1</td>\n",
       "      <td>Adult</td>\n",
       "      <td>False</td>\n",
       "      <td>...</td>\n",
       "      <td>0</td>\n",
       "      <td>0</td>\n",
       "      <td>0</td>\n",
       "      <td>0</td>\n",
       "      <td>0</td>\n",
       "      <td>0</td>\n",
       "      <td>3249.0</td>\n",
       "      <td>Overweight</td>\n",
       "      <td>0</td>\n",
       "      <td>1</td>\n",
       "    </tr>\n",
       "    <tr>\n",
       "      <th>4</th>\n",
       "      <td>1.077588</td>\n",
       "      <td>0</td>\n",
       "      <td>0</td>\n",
       "      <td>never</td>\n",
       "      <td>-0.012037</td>\n",
       "      <td>1.833156</td>\n",
       "      <td>0.532437</td>\n",
       "      <td>1</td>\n",
       "      <td>Old</td>\n",
       "      <td>True</td>\n",
       "      <td>...</td>\n",
       "      <td>0</td>\n",
       "      <td>0</td>\n",
       "      <td>1</td>\n",
       "      <td>0</td>\n",
       "      <td>0</td>\n",
       "      <td>0</td>\n",
       "      <td>4356.0</td>\n",
       "      <td>Overweight</td>\n",
       "      <td>1</td>\n",
       "      <td>1</td>\n",
       "    </tr>\n",
       "  </tbody>\n",
       "</table>\n",
       "<p>5 rows × 25 columns</p>\n",
       "</div>"
      ],
      "text/plain": [
       "        age  hypertension  heart_disease smoking_history       bmi  \\\n",
       "0  1.389214             0              1          former  0.326336   \n",
       "1  0.810480             0              0         No Info -1.390648   \n",
       "2  1.611804             0              0           never  1.846798   \n",
       "3  0.676926             0              0           never  0.098784   \n",
       "4  1.077588             0              0           never -0.012037   \n",
       "\n",
       "   HbA1c_level  blood_glucose_level  diabetes age_group  gender_Female  ...  \\\n",
       "0     0.155970             1.510204         1       Old          False  ...   \n",
       "1     2.485395            -0.298664         1     Adult           True  ...   \n",
       "2     1.180917             0.410216         1       Old           True  ...   \n",
       "3     0.528678             0.043554         1     Adult          False  ...   \n",
       "4     1.833156             0.532437         1       Old           True  ...   \n",
       "\n",
       "   Female_Child  Female_Adult  Female_Old  Other_Child  Other_Adult  \\\n",
       "0             0             0           0            0            0   \n",
       "1             0             1           0            0            0   \n",
       "2             0             0           1            0            0   \n",
       "3             0             0           0            0            0   \n",
       "4             0             0           1            0            0   \n",
       "\n",
       "   Other_Old  age_squared  bmi_category  HbA1c_above_6_5  \\\n",
       "0          0       5329.0    Overweight                0   \n",
       "1          0       3600.0   Underweight                1   \n",
       "2          0       6084.0         Obese                1   \n",
       "3          0       3249.0    Overweight                0   \n",
       "4          0       4356.0    Overweight                1   \n",
       "\n",
       "   blood_glucose_above_126  \n",
       "0                        1  \n",
       "1                        1  \n",
       "2                        1  \n",
       "3                        1  \n",
       "4                        1  \n",
       "\n",
       "[5 rows x 25 columns]"
      ]
     },
     "execution_count": 2,
     "metadata": {},
     "output_type": "execute_result"
    }
   ],
   "source": [
    "df = pd.read_csv(\"diabetes_engineered_normalized_balanced.csv\")\n",
    "\n",
    "df.head()"
   ]
  },
  {
   "cell_type": "code",
   "execution_count": 3,
   "id": "4e402046-9802-4a57-ade8-07c878972940",
   "metadata": {},
   "outputs": [
    {
     "name": "stdout",
     "output_type": "stream",
     "text": [
      "Diabetes distribution (in percentage):\n",
      "diabetes\n",
      "0    87.001019\n",
      "1    12.998981\n",
      "Name: count, dtype: float64\n"
     ]
    }
   ],
   "source": [
    "diabetes_counts = df['diabetes'].value_counts()\n",
    "\n",
    "# Calculate the percentage for each class\n",
    "diabetes_percentage = (diabetes_counts / len(df)) * 100\n",
    "\n",
    "# Display the result\n",
    "print(\"Diabetes distribution (in percentage):\")\n",
    "print(diabetes_percentage)"
   ]
  },
  {
   "cell_type": "code",
   "execution_count": 4,
   "id": "27023940-e93d-4709-b40a-1b05e7b9ecc6",
   "metadata": {},
   "outputs": [],
   "source": [
    "# Features (X) and target (y)\n",
    "X = df.drop(columns=['diabetes'])\n",
    "y = df['diabetes']"
   ]
  },
  {
   "cell_type": "code",
   "execution_count": 5,
   "id": "48941aac-93fa-4c0e-9745-12e7f1314efe",
   "metadata": {},
   "outputs": [
    {
     "name": "stdout",
     "output_type": "stream",
     "text": [
      "Training set distribution:\n",
      " diabetes\n",
      "0    87.000386\n",
      "1    12.999614\n",
      "Name: proportion, dtype: float64\n",
      "Test set distribution:\n",
      " diabetes\n",
      "0    86.998128\n",
      "1    13.001872\n",
      "Name: proportion, dtype: float64\n",
      "Validation set distribution:\n",
      " diabetes\n",
      "0    87.00468\n",
      "1    12.99532\n",
      "Name: proportion, dtype: float64\n"
     ]
    }
   ],
   "source": [
    "from sklearn.model_selection import train_test_split\n",
    "\n",
    "# First split into training (70%) and remaining (30%)\n",
    "X_train, X_temp, y_train, y_temp = train_test_split(X, y, test_size=0.3, stratify=y, random_state=42)\n",
    "\n",
    "# Then split the remaining data into test (20%) and validation (10%)\n",
    "X_test, X_val, y_test, y_val = train_test_split(X_temp, y_temp, test_size=2/3, stratify=y_temp, random_state=42)\n",
    "\n",
    "# Verify the distribution in each split\n",
    "print(\"Training set distribution:\\n\", y_train.value_counts(normalize=True) * 100)\n",
    "print(\"Test set distribution:\\n\", y_test.value_counts(normalize=True) * 100)\n",
    "print(\"Validation set distribution:\\n\", y_val.value_counts(normalize=True) * 100)\n"
   ]
  },
  {
   "cell_type": "code",
   "execution_count": 6,
   "id": "e9922472-307f-44f4-94bd-8e1c52e8ba43",
   "metadata": {},
   "outputs": [
    {
     "name": "stdout",
     "output_type": "stream",
     "text": [
      "0:\tlearn: 0.5448321\ttotal: 221ms\tremaining: 3m 41s\n",
      "200:\tlearn: 0.0929458\ttotal: 13.2s\tremaining: 52.5s\n",
      "400:\tlearn: 0.0840150\ttotal: 26.4s\tremaining: 39.4s\n",
      "600:\tlearn: 0.0771695\ttotal: 39.8s\tremaining: 26.4s\n",
      "800:\tlearn: 0.0718641\ttotal: 53.4s\tremaining: 13.3s\n",
      "999:\tlearn: 0.0672872\ttotal: 1m 7s\tremaining: 0us\n",
      "Test Set Evaluation:\n",
      "Accuracy: 0.9655746229849194\n",
      "Classification Report:\n",
      "               precision    recall  f1-score   support\n",
      "\n",
      "           0       0.97      0.99      0.98     16749\n",
      "           1       0.94      0.78      0.85      2481\n",
      "\n",
      "    accuracy                           0.97     19230\n",
      "   macro avg       0.96      0.89      0.92     19230\n",
      "weighted avg       0.97      0.97      0.96     19230\n",
      "\n",
      "Confusion Matrix:\n",
      " [[16634   115]\n",
      " [  547  1934]]\n"
     ]
    }
   ],
   "source": [
    "import pandas as pd\n",
    "from catboost import CatBoostClassifier\n",
    "from sklearn.model_selection import train_test_split\n",
    "from sklearn.metrics import accuracy_score, classification_report, confusion_matrix\n",
    "\n",
    "# Assuming your dataframe is `df`\n",
    "\n",
    "# Define your features (X) and target (y)\n",
    "X = df.drop(columns=['diabetes'])  # Features (excluding target 'diabetes')\n",
    "y = df['diabetes']  # Target variable\n",
    "\n",
    "# Ensure that categorical columns are of type 'category'\n",
    "categorical_columns = ['smoking_history', 'gender_Female', 'gender_Male', 'gender_Other', 'age_group', 'bmi_category']\n",
    "X[categorical_columns] = X[categorical_columns].astype('category')\n",
    "\n",
    "# Split the data into train and test sets (80% train, 20% test)\n",
    "X_train, X_test, y_train, y_test = train_test_split(X, y, test_size=0.2, random_state=42)\n",
    "\n",
    "# List of categorical columns (adjust according to your dataset)\n",
    "categorical_features = ['smoking_history', 'gender_Female', 'gender_Male', 'gender_Other', 'age_group', 'bmi_category']\n",
    "\n",
    "# Initialize the CatBoost model\n",
    "model = CatBoostClassifier(iterations=1000,  # Number of boosting iterations\n",
    "                           learning_rate=0.1,  # Step size in each iteration\n",
    "                           depth=6,  # Depth of the tree\n",
    "                           cat_features=categorical_features,  # Specify categorical features\n",
    "                           random_state=42,\n",
    "                           verbose=200)  # Print out training progress every 200 iterations\n",
    "\n",
    "# Train the CatBoost model on the training data\n",
    "model.fit(X_train, y_train)\n",
    "\n",
    "# Make predictions on the test set\n",
    "y_pred_test = model.predict(X_test)\n",
    "\n",
    "# Evaluate the model on the test set\n",
    "print(\"Test Set Evaluation:\")\n",
    "print(\"Accuracy:\", accuracy_score(y_test, y_pred_test))\n",
    "print(\"Classification Report:\\n\", classification_report(y_test, y_pred_test))\n",
    "print(\"Confusion Matrix:\\n\", confusion_matrix(y_test, y_pred_test))\n"
   ]
  },
  {
   "cell_type": "code",
   "execution_count": 7,
   "id": "3d6dc118-6bbc-4f6d-81c3-146ba7b23a2d",
   "metadata": {},
   "outputs": [
    {
     "data": {
      "image/png": "[encoded data removed]",
      "text/plain": [
       "<Figure size 800x600 with 1 Axes>"
      ]
     },
     "metadata": {},
     "output_type": "display_data"
    },
    {
     "name": "stdout",
     "output_type": "stream",
     "text": [
      "ROC AUC: 0.99\n"
     ]
    }
   ],
   "source": [
    "import matplotlib.pyplot as plt\n",
    "from sklearn.metrics import roc_curve, auc\n",
    "\n",
    "# Get the predicted probabilities for the positive class (diabetic)\n",
    "y_pred_prob = model.predict_proba(X_test)[:, 1]  # probabilities for class 1 (diabetic)\n",
    "\n",
    "# Compute ROC curve\n",
    "fpr, tpr, thresholds = roc_curve(y_test, y_pred_prob)\n",
    "\n",
    "# Compute AUC\n",
    "roc_auc = auc(fpr, tpr)\n",
    "\n",
    "# Plot ROC curve\n",
    "plt.figure(figsize=(8, 6))\n",
    "plt.plot(fpr, tpr, color='blue', lw=2, label=f'ROC curve (AUC = {roc_auc:.2f})')\n",
    "plt.plot([0, 1], [0, 1], color='gray', lw=2, linestyle='--')  # Random classifier line\n",
    "plt.xlim([0.0, 1.0])\n",
    "plt.ylim([0.0, 1.05])\n",
    "plt.xlabel('False Positive Rate')\n",
    "plt.ylabel('True Positive Rate')\n",
    "plt.title('Receiver Operating Characteristic (ROC) Curve')\n",
    "plt.legend(loc='lower right')\n",
    "plt.grid(True)\n",
    "plt.show()\n",
    "\n",
    "print(f\"ROC AUC: {roc_auc:.2f}\")\n"
   ]
  },
  {
   "cell_type": "code",
   "execution_count": 8,
   "id": "0f59e570-41d5-49c9-a301-c34b7781348a",
   "metadata": {},
   "outputs": [
    {
     "name": "stdout",
     "output_type": "stream",
     "text": [
      "Model saved as 'catboost_model.pkl'\n"
     ]
    }
   ],
   "source": [
    "import pickle\n",
    "\n",
    "# Save the trained CatBoost model to a .pkl file\n",
    "with open('catboost_model.pkl', 'wb') as f:\n",
    "    pickle.dump(model, f)\n",
    "    \n",
    "print(\"Model saved as 'catboost_model.pkl'\")\n"
   ]
  },
  {
   "cell_type": "code",
   "execution_count": 9,
   "id": "3f61816d-04dc-41de-99af-33659f4096e0",
   "metadata": {},
   "outputs": [
    {
     "data": {
      "text/plain": [
       "(0.9655746229849194,\n",
       " 0.9438750610053684,\n",
       " 0.7795243853284965,\n",
       " 0.8538631346578367,\n",
       " 0.9866063460290926)"
      ]
     },
     "execution_count": 9,
     "metadata": {},
     "output_type": "execute_result"
    }
   ],
   "source": [
    "from sklearn.metrics import roc_auc_score, precision_score, recall_score, f1_score\n",
    "\n",
    "# Calculate the metrics\n",
    "accuracy = accuracy_score(y_test, y_pred_test)\n",
    "precision = precision_score(y_test, y_pred_test)\n",
    "recall = recall_score(y_test, y_pred_test)\n",
    "f1 = f1_score(y_test, y_pred_test)\n",
    "roc_auc = roc_auc_score(y_test, model.predict_proba(X_test)[:, 1])\n",
    "\n",
    "accuracy, precision, recall, f1, roc_auc"
   ]
  },
  {
   "cell_type": "code",
   "execution_count": 11,
   "id": "681cf286-04c0-4bb0-b8f7-fad6d05b7a8d",
   "metadata": {},
   "outputs": [
    {
     "data": {
      "image/png": "[encoded data removed]",
      "text/plain": [
       "<Figure size 800x600 with 2 Axes>"
      ]
     },
     "metadata": {},
     "output_type": "display_data"
    }
   ],
   "source": [
    "from sklearn.metrics import confusion_matrix\n",
    "import seaborn as sns\n",
    "import matplotlib.pyplot as plt\n",
    "\n",
    "# Assuming your model is named 'model' and your test data is X_test, y_test\n",
    "y_pred_test = model.predict(X_test)\n",
    "\n",
    "# Generate confusion matrix\n",
    "cm = confusion_matrix(y_test, y_pred_test)\n",
    "\n",
    "# Plot confusion matrix as a heatmap\n",
    "plt.figure(figsize=(8, 6))\n",
    "sns.heatmap(cm, annot=True, fmt='d', cmap='Blues', xticklabels=['Non-Diabetic', 'Diabetic'], yticklabels=['Non-Diabetic', 'Diabetic'])\n",
    "plt.title('Confusion Matrix CatBoost')\n",
    "plt.xlabel('Predicted')\n",
    "plt.ylabel('Actual')\n",
    "plt.show()\n"
   ]
  },
  {
   "cell_type": "code",
   "execution_count": 12,
   "id": "2e180e38-52b4-4ea6-95f4-6872bcaad662",
   "metadata": {},
   "outputs": [],
   "source": [
    "import pickle\n",
    "\n",
    "# Save the model to a .pkl file\n",
    "with open('catboost_model.pkl', 'wb') as file:\n",
    "    pickle.dump(model, file)"
   ]
  },
  {
   "cell_type": "code",
   "execution_count": null,
   "id": "7b586d88-7908-4418-a549-44f5620a0b7b",
   "metadata": {},
   "outputs": [],
   "source": []
  }
 ],
 "metadata": {
  "kernelspec": {
   "display_name": "Python 3 (ipykernel)",
   "language": "python",
   "name": "python3"
  },
  "language_info": {
   "codemirror_mode": {
    "name": "ipython",
    "version": 3
   },
   "file_extension": ".py",
   "mimetype": "text/x-python",
   "name": "python",
   "nbconvert_exporter": "python",
   "pygments_lexer": "ipython3",
   "version": "3.12.8"
  }
 },
 "nbformat": 4,
 "nbformat_minor": 5
}
